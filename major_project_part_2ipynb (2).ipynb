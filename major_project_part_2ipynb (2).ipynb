{
  "nbformat": 4,
  "nbformat_minor": 0,
  "metadata": {
    "colab": {
      "name": "major project part 2ipynb",
      "provenance": [],
      "collapsed_sections": []
    },
    "kernelspec": {
      "name": "python3",
      "display_name": "Python 3"
    },
    "language_info": {
      "name": "python"
    }
  },
  "cells": [
    {
      "cell_type": "code",
      "metadata": {
        "colab": {
          "base_uri": "https://localhost:8080/"
        },
        "id": "KV1ecp5zJpXC",
        "outputId": "52639d94-ce2c-4503-bad8-1c5c8befd5d8"
      },
      "source": [
        "!pip install streamlit --quiet\n",
        "!pip install pyngrok==4.1.1 --quiet\n",
        "from pyngrok import ngrok"
      ],
      "execution_count": 1,
      "outputs": [
        {
          "output_type": "stream",
          "text": [
            "\u001b[K     |████████████████████████████████| 8.2MB 7.0MB/s \n",
            "\u001b[K     |████████████████████████████████| 4.2MB 42.4MB/s \n",
            "\u001b[K     |████████████████████████████████| 112kB 54.4MB/s \n",
            "\u001b[K     |████████████████████████████████| 81kB 8.0MB/s \n",
            "\u001b[K     |████████████████████████████████| 163kB 55.9MB/s \n",
            "\u001b[K     |████████████████████████████████| 122kB 54.2MB/s \n",
            "\u001b[K     |████████████████████████████████| 71kB 7.3MB/s \n",
            "\u001b[?25h  Building wheel for blinker (setup.py) ... \u001b[?25l\u001b[?25hdone\n",
            "\u001b[31mERROR: google-colab 1.0.0 has requirement ipykernel~=4.10, but you'll have ipykernel 5.5.3 which is incompatible.\u001b[0m\n",
            "  Building wheel for pyngrok (setup.py) ... \u001b[?25l\u001b[?25hdone\n"
          ],
          "name": "stdout"
        }
      ]
    },
    {
      "cell_type": "code",
      "metadata": {
        "colab": {
          "base_uri": "https://localhost:8080/"
        },
        "id": "Er6jp2o-J120",
        "outputId": "463b9a6a-53f2-4cc7-f3e3-0d6708b04f2b"
      },
      "source": [
        "%%writefile app.py\n",
        "import streamlit as st\n",
        "from tensorflow.keras.applications.mobilenet_v2 import MobileNetV2\n",
        "import numpy as np\n",
        "from PIL import Image # Strreamlit works with PIL library very easily for Images\n",
        "import cv2\n",
        "from keras.applications.mobilenet_v2 import preprocess_input,decode_predictions\n",
        "st.title(\"Image-Classifier: Cats and Dogs\")\n",
        "upload = st.sidebar.file_uploader(label='Upload the Image')\n",
        "\n",
        "import pickle\n",
        "model_new=pickle.load(open('/content/img_modle (2).p','rb'))\n",
        "\n",
        "if upload is not None:\n",
        "  file_bytes = np.asarray(bytearray(upload.read()), dtype=np.uint8)\n",
        "  opencv_image = cv2.imdecode(file_bytes, 1)\n",
        "  opencv_image = cv2.cvtColor(opencv_image,cv2.COLOR_BGR2RGB) # Color from BGR to RGB\n",
        "  img = Image.open(upload)\n",
        "  st.image(img,caption='Uploaded Image',width=300)\n",
        "  model_new = MobileNetV2()\n",
        "  x = cv2.resize(opencv_image,(224,224))\n",
        "  x = np.expand_dims(x,axis=0)\n",
        "  x = preprocess_input(x)\n",
        "  y = model_new.predict(x)\n",
        "  if st.sidebar.button('PREDICT'):\n",
        "    st.sidebar.write('Result...')\n",
        "    label = decode_predictions(y)\n",
        "    for i in range(3):\n",
        "      out = label[0][i]\n",
        "      st.sidebar.title('%s (%.2f%%)' % (out[1], out[2]*100))"
      ],
      "execution_count": 4,
      "outputs": [
        {
          "output_type": "stream",
          "text": [
            "Overwriting app.py\n"
          ],
          "name": "stdout"
        }
      ]
    },
    {
      "cell_type": "code",
      "metadata": {
        "colab": {
          "base_uri": "https://localhost:8080/",
          "height": 52
        },
        "id": "QEVboGzcJ4Vi",
        "outputId": "cd79415d-7a73-4961-e219-9917bac44763"
      },
      "source": [
        "!nohup streamlit run app.py &\n",
        "url = ngrok.connect(port='8501')\n",
        "url"
      ],
      "execution_count": 3,
      "outputs": [
        {
          "output_type": "stream",
          "text": [
            "nohup: appending output to 'nohup.out'\n"
          ],
          "name": "stdout"
        },
        {
          "output_type": "execute_result",
          "data": {
            "application/vnd.google.colaboratory.intrinsic+json": {
              "type": "string"
            },
            "text/plain": [
              "'http://758ee02ddc49.ngrok.io'"
            ]
          },
          "metadata": {
            "tags": []
          },
          "execution_count": 3
        }
      ]
    },
    {
      "cell_type": "code",
      "metadata": {
        "id": "HmAmoWyALn-w"
      },
      "source": [
        ""
      ],
      "execution_count": null,
      "outputs": []
    }
  ]
}